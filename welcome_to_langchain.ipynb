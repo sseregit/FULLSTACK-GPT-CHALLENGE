{
 "cells": [
  {
   "cell_type": "code",
   "id": "initial_id",
   "metadata": {
    "collapsed": true,
    "ExecuteTime": {
     "end_time": "2025-10-13T04:45:08.803058Z",
     "start_time": "2025-10-13T04:45:08.799029Z"
    }
   },
   "source": [
    "# load_dotenv\n",
    "# 모델을 Import 해야하고\n",
    "# 모델 = \"gpt-3.5-turbo\", streaming 옵션, StreamingStdOutCallbackHandler 활용\n",
    "\n",
    "from dotenv import load_dotenv\n",
    "from langchain.chat_models import ChatOpenAI\n",
    "from langchain.prompts import ChatPromptTemplate\n",
    "from langchain.callbacks import StreamingStdOutCallbackHandler\n",
    "\n",
    "load_dotenv()\n",
    "\n",
    "llm = ChatOpenAI(\n",
    "    temperature=0.1,\n",
    "    streaming=True,\n",
    "    callbacks=[\n",
    "        StreamingStdOutCallbackHandler(),\n",
    "    ]\n",
    ")"
   ],
   "outputs": [],
   "execution_count": 11
  },
  {
   "metadata": {
    "ExecuteTime": {
     "end_time": "2025-10-13T04:45:08.817884Z",
     "start_time": "2025-10-13T04:45:08.815738Z"
    }
   },
   "cell_type": "code",
   "source": [
    "# 프로그래밍 언어에 대한 시를 쓰는 데 특화된 체인\n",
    "muse_prompt = ChatPromptTemplate.from_messages([\n",
    "    (\"system\", \"너는 프로그래밍 언어를 주제로, 아포리즘처럼 짧고 함축적인 시를 생성하는 시인이다.\"),\n",
    "    (\"human\", \"{programming_language} 시를 부탁해\"),\n",
    "])\n",
    "\n",
    "code_poet_chain = muse_prompt | llm"
   ],
   "id": "2f43d0e0bfcba9dd",
   "outputs": [],
   "execution_count": 12
  },
  {
   "metadata": {
    "ExecuteTime": {
     "end_time": "2025-10-13T04:45:08.825547Z",
     "start_time": "2025-10-13T04:45:08.823646Z"
    }
   },
   "cell_type": "code",
   "source": [
    "# 시를 설명하는 데 특화된 체인\n",
    "critic_prompt = ChatPromptTemplate.from_messages([\n",
    "    (\"system\", \"너는 시를 분석하고 의미를 설명하는 역할을 수행한다.\"),\n",
    "    (\"human\", \"{poetry}\")\n",
    "])\n",
    "\n",
    "metapoet_chain = critic_prompt | llm"
   ],
   "id": "5122f23ee98cefb6",
   "outputs": [],
   "execution_count": 13
  },
  {
   "metadata": {
    "ExecuteTime": {
     "end_time": "2025-10-13T04:45:14.648782Z",
     "start_time": "2025-10-13T04:45:08.829326Z"
    }
   },
   "cell_type": "code",
   "source": [
    "# LCEL을 활용해서 호출할 것\n",
    "final_chain = {\"poetry\": code_poet_chain} | metapoet_chain\n",
    "\n",
    "final_chain.invoke({\n",
    "    \"programming_language\": \"java\",\n",
    "})"
   ],
   "id": "a931fdfba683739d",
   "outputs": [
    {
     "name": "stdout",
     "output_type": "stream",
     "text": [
      "코드의 미학\n",
      "세미콜론의 춤\n",
      "자바의 힘이 시는 \"코드의 미학, 세미콜론의 춤, 자바의 힘\"이라는 제목을 가지고 있습니다. 시인은 코드 작성에 대한 아름다움과 중요성을 강조하고 있습니다. \n",
      "\n",
      "첫 번째 줄인 \"코드의 미학\"은 코드 작성의 미학적인 면을 강조하며, 코드가 예술적인 표현이 될 수 있다는 것을 시인이 강조하고 있습니다.\n",
      "\n",
      "두 번째 줄인 \"세미콜론의 춤\"은 프로그래밍에서 세미콜론이 문장의 끝을 나타내는 중요한 역할을 한다는 것을 시적인 표현으로 나타내고 있습니다. 세미콜론은 코드의 구조를 유지하고 명확하게 해주는 역할을 하기 때문에, 이를 춤추는 것으로 표현한 것으로 해석할 수 있습니다.\n",
      "\n",
      "마지막으로 \"자바의 힘\"은 자바라는 프로그래밍 언어의 강점과 영향력을 강조하고 있습니다. 자바는 다양한 플랫폼에서 사용되는 강력한 언어로, 이를 통해 코드 작성의 힘과 중요성을 강조하고 있습니다. \n",
      "\n",
      "이 시는 코드 작성에 대한 열정과 예술성을 강조하며, 프로그래밍의 중요성을 강조하는 메시지를 전달하고 있습니다."
     ]
    },
    {
     "data": {
      "text/plain": [
       "AIMessageChunk(content='이 시는 \"코드의 미학, 세미콜론의 춤, 자바의 힘\"이라는 제목을 가지고 있습니다. 시인은 코드 작성에 대한 아름다움과 중요성을 강조하고 있습니다. \\n\\n첫 번째 줄인 \"코드의 미학\"은 코드 작성의 미학적인 면을 강조하며, 코드가 예술적인 표현이 될 수 있다는 것을 시인이 강조하고 있습니다.\\n\\n두 번째 줄인 \"세미콜론의 춤\"은 프로그래밍에서 세미콜론이 문장의 끝을 나타내는 중요한 역할을 한다는 것을 시적인 표현으로 나타내고 있습니다. 세미콜론은 코드의 구조를 유지하고 명확하게 해주는 역할을 하기 때문에, 이를 춤추는 것으로 표현한 것으로 해석할 수 있습니다.\\n\\n마지막으로 \"자바의 힘\"은 자바라는 프로그래밍 언어의 강점과 영향력을 강조하고 있습니다. 자바는 다양한 플랫폼에서 사용되는 강력한 언어로, 이를 통해 코드 작성의 힘과 중요성을 강조하고 있습니다. \\n\\n이 시는 코드 작성에 대한 열정과 예술성을 강조하며, 프로그래밍의 중요성을 강조하는 메시지를 전달하고 있습니다.')"
      ]
     },
     "execution_count": 14,
     "metadata": {},
     "output_type": "execute_result"
    }
   ],
   "execution_count": 14
  }
 ],
 "metadata": {
  "kernelspec": {
   "display_name": "Python 3",
   "language": "python",
   "name": "python3"
  },
  "language_info": {
   "codemirror_mode": {
    "name": "ipython",
    "version": 2
   },
   "file_extension": ".py",
   "mimetype": "text/x-python",
   "name": "python",
   "nbconvert_exporter": "python",
   "pygments_lexer": "ipython2",
   "version": "2.7.6"
  }
 },
 "nbformat": 4,
 "nbformat_minor": 5
}
