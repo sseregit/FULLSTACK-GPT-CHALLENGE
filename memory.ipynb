{
 "cells": [
  {
   "cell_type": "code",
   "id": "initial_id",
   "metadata": {
    "collapsed": true,
    "ExecuteTime": {
     "end_time": "2025-10-15T06:18:34.969258Z",
     "start_time": "2025-10-15T06:18:34.962488Z"
    }
   },
   "source": [
    "from dotenv import load_dotenv\n",
    "from langchain.chat_models import ChatOpenAI\n",
    "from langchain.memory import ConversationSummaryBufferMemory\n",
    "from langchain.prompts import ChatPromptTemplate, MessagesPlaceholder, FewShotChatMessagePromptTemplate\n",
    "from langchain.schema.runnable import RunnablePassthrough\n",
    "\n",
    "load_dotenv()\n",
    "\n",
    "llm = ChatOpenAI(temperature=0.1)\n",
    "\n",
    "memory = ConversationSummaryBufferMemory(\n",
    "    llm=llm,\n",
    "    max_token_limit=500,\n",
    "    return_messages=True\n",
    ")\n",
    "\n",
    "examples = [\n",
    "    {\n",
    "        \"movie\": \"인터스텔라\",\n",
    "        \"answer\": \"🚀⏳🌌\"\n",
    "    },\n",
    "    {\n",
    "        \"movie\": \"라라랜드\",\n",
    "        \"answer\": \"🎹💃💔\"\n",
    "    },\n",
    "    {\n",
    "        \"movie\": \"기생충\",\n",
    "        \"answer\": \"🏠🍜🔪\"\n",
    "    }\n",
    "]\n",
    "\n",
    "example_prompt = ChatPromptTemplate.from_messages([\n",
    "    (\"human\", \"{movie}가 무슨 영화야?\"),\n",
    "    (\"ai\", \"{answer}\"),\n",
    "])\n",
    "\n",
    "fewshot_chat_prompt = FewShotChatMessagePromptTemplate(\n",
    "    example_prompt=example_prompt,\n",
    "    examples=examples,\n",
    ")\n",
    "\n",
    "final_prompt = ChatPromptTemplate.from_messages([\n",
    "    (\"system\", \"\"\"너는 영화를 3개의 이모지로 평가하는 영화평론가야.\n",
    "\n",
    "    역할:\n",
    "    1. 영화 제목을 물어보면 → 위 예제의 스타일을 참고해서 이모지 3개로 답변\n",
    "    2. 이전 대화를 묻는 질문 (예: \"처음 뭐 물어봤어?\", \"몇 개 물어봤어?\")\n",
    "       → 아래 [실제 대화 기록]만 참고해서 답변해. 위의 예제는 절대 포함하지 마!\n",
    "    \"\"\"),\n",
    "    MessagesPlaceholder(variable_name=\"history\"),\n",
    "    fewshot_chat_prompt,\n",
    "    (\"human\", \"{question}\"),\n",
    "])\n",
    "\n",
    "\n",
    "def load_memory(_):\n",
    "    return memory.load_memory_variables({})[\"history\"]\n",
    "\n",
    "\n",
    "chain = RunnablePassthrough.assign(history=load_memory) | final_prompt | llm\n",
    "\n",
    "\n",
    "def invoke_chain(question):\n",
    "    result = chain.invoke({\"question\": question})\n",
    "    memory.save_context(\n",
    "        {\"input\": question},\n",
    "        {\"output\": result.content}\n",
    "    )\n",
    "    print(result)"
   ],
   "outputs": [],
   "execution_count": 51
  },
  {
   "metadata": {
    "ExecuteTime": {
     "end_time": "2025-10-15T06:18:36.184967Z",
     "start_time": "2025-10-15T06:18:35.009176Z"
    }
   },
   "cell_type": "code",
   "source": "invoke_chain(\"배트맨\")",
   "id": "ccd28a1d1007f145",
   "outputs": [
    {
     "name": "stdout",
     "output_type": "stream",
     "text": [
      "content='🦇🌃👊'\n"
     ]
    }
   ],
   "execution_count": 52
  },
  {
   "metadata": {
    "ExecuteTime": {
     "end_time": "2025-10-15T06:18:37.675504Z",
     "start_time": "2025-10-15T06:18:36.212214Z"
    }
   },
   "cell_type": "code",
   "source": "invoke_chain(\"슈퍼맨\")",
   "id": "8ce2e1832cd03a68",
   "outputs": [
    {
     "name": "stdout",
     "output_type": "stream",
     "text": [
      "content='🦸\\u200d♂️💥🌟'\n"
     ]
    }
   ],
   "execution_count": 53
  },
  {
   "metadata": {
    "ExecuteTime": {
     "end_time": "2025-10-15T06:18:38.222327Z",
     "start_time": "2025-10-15T06:18:37.707897Z"
    }
   },
   "cell_type": "code",
   "source": "invoke_chain(\"처음에 질문한 영화가 뭐야?\")",
   "id": "3194c77d8c7cf6d",
   "outputs": [
    {
     "name": "stdout",
     "output_type": "stream",
     "text": [
      "content='배트맨'\n"
     ]
    }
   ],
   "execution_count": 54
  }
 ],
 "metadata": {
  "kernelspec": {
   "display_name": "Python 3",
   "language": "python",
   "name": "python3"
  },
  "language_info": {
   "codemirror_mode": {
    "name": "ipython",
    "version": 2
   },
   "file_extension": ".py",
   "mimetype": "text/x-python",
   "name": "python",
   "nbconvert_exporter": "python",
   "pygments_lexer": "ipython2",
   "version": "2.7.6"
  }
 },
 "nbformat": 4,
 "nbformat_minor": 5
}
