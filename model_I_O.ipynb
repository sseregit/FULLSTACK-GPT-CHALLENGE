{
 "cells": [
  {
   "cell_type": "code",
   "id": "initial_id",
   "metadata": {
    "collapsed": true,
    "ExecuteTime": {
     "end_time": "2025-10-14T07:34:19.461451Z",
     "start_time": "2025-10-14T07:34:19.455950Z"
    }
   },
   "source": [
    "from dotenv import load_dotenv\n",
    "from langchain.chat_models import ChatOpenAI\n",
    "from langchain.prompts.few_shot import FewShotPromptTemplate\n",
    "from langchain.prompts.prompt import PromptTemplate\n",
    "\n",
    "load_dotenv()\n",
    "\n",
    "llm = ChatOpenAI(\n",
    "    temperature=0.1\n",
    ")\n",
    "\n",
    "example_movies = [\n",
    "    {\n",
    "        \"question\": \"영화이름1에 대한 정보를 부탁해\",\n",
    "        \"answer\": \"\"\"\n",
    "        Director: 김성수\n",
    "        Cast: 황정민, 정우성, 이성민, ...\n",
    "        Budget: 약 230억 원\n",
    "        Box Office: $97,476,565\n",
    "        Genre: 역사 / 드라마 / 액션\n",
    "        Plot: 1979년 군사 쿠데타의 혼란 속에서 권력을 쟁탈하려는 세력들의 긴박한 대립을 그린다.\n",
    "        \"\"\"\n",
    "    },\n",
    "    {\n",
    "        \"question\": \"영화이름2에 대한 정보를 부탁해\",\n",
    "        \"answer\": \"\"\"\n",
    "        Director: 황병국\n",
    "        Cast: 강하늘, 유해진, 박해준, ...\n",
    "        Budget: 비공개\n",
    "        Box Office: $24,508,523\n",
    "        Genre: 범죄 / 스릴러 / 드라마\n",
    "        Plot: 마약 조직 내부고발자가 된 남자가 권력의 음모 속에 휘말리는 이야기를 다룬다.\n",
    "        \"\"\"\n",
    "    },\n",
    "    {\n",
    "        \"question\": \"영화이름3에 대한 정보를 부탁해\",\n",
    "        \"answer\": \"\"\"\n",
    "        Director: 최원섭\n",
    "        Cast: 권상우, 정준호, 이지형, ...\n",
    "        Budget: 비공개\n",
    "        Box Office: 한국 관객 250만 명 이상\n",
    "        Genre: 액션 / 코미디\n",
    "        Plot: 전직 요원이 웹툰에 올린 내용이 현실 사건과 겹치며 음모에 휘말린다.\n",
    "        \"\"\"\n",
    "    }\n",
    "]"
   ],
   "outputs": [],
   "execution_count": 22
  },
  {
   "metadata": {
    "ExecuteTime": {
     "end_time": "2025-10-14T07:34:19.492993Z",
     "start_time": "2025-10-14T07:34:19.489714Z"
    }
   },
   "cell_type": "code",
   "source": "example_prompt = PromptTemplate.from_template(\"Human: {question}\\nAI:{answer}\")\n\nfew_shot_prompt = FewShotPromptTemplate(\n    example_prompt=example_prompt,\n    examples=example_movies,\n    suffix=\"Human: {movie}에 대한 정보를 부탁해\\nAI:\",\n    input_variables=[\"movie\"],\n)\n\nfew_shot_prompt",
   "id": "2a2073cd95096804",
   "outputs": [
    {
     "data": {
      "text/plain": [
       "FewShotPromptTemplate(input_variables=['movie'], examples=[{'question': '영화이름1에 대한 정보를 부탁해', 'answer': '\\n        Director: 김성수\\n        Cast: 황정민, 정우성, 이성민, ...\\n        Budget: 약 230억 원\\n        Box Office: $97,476,565\\n        Genre: 역사 / 드라마 / 액션\\n        Plot: 1979년 군사 쿠데타의 혼란 속에서 권력을 쟁탈하려는 세력들의 긴박한 대립을 그린다.\\n        '}, {'question': '영화이름2에 대한 정보를 부탁해', 'answer': '\\n        Director: 황병국\\n        Cast: 강하늘, 유해진, 박해준, ...\\n        Budget: 비공개\\n        Box Office: $24,508,523\\n        Genre: 범죄 / 스릴러 / 드라마\\n        Plot: 마약 조직 내부고발자가 된 남자가 권력의 음모 속에 휘말리는 이야기를 다룬다.\\n        '}, {'question': '영화이름3에 대한 정보를 부탁해', 'answer': '\\n        Director: 최원섭\\n        Cast: 권상우, 정준호, 이지형, ...\\n        Budget: 비공개\\n        Box Office: 한국 관객 250만 명 이상\\n        Genre: 액션 / 코미디\\n        Plot: 전직 요원이 웹툰에 올린 내용이 현실 사건과 겹치며 음모에 휘말린다.\\n        '}], example_prompt=PromptTemplate(input_variables=['answer', 'question'], template='Human: {question}\\nAI:{answer}'), suffix='Human: {movie}에 대한 정보를 부탁해\\nAI:')"
      ]
     },
     "execution_count": 23,
     "metadata": {},
     "output_type": "execute_result"
    }
   ],
   "execution_count": 23
  },
  {
   "metadata": {
    "ExecuteTime": {
     "end_time": "2025-10-14T07:36:13.539681Z",
     "start_time": "2025-10-14T07:36:12.026324Z"
    }
   },
   "cell_type": "code",
   "source": [
    "chain = few_shot_prompt | llm\n",
    "\n",
    "# 예제에 없는 다른 영화로 테스트\n",
    "chain.invoke({\"movie\": \"타이타닉\"})"
   ],
   "id": "8665f161f1f2e355",
   "outputs": [
    {
     "data": {
      "text/plain": [
       "AIMessage(content='        Director: 제임스 카메론\\n        Cast: 레오나르도 디카프리오, 케이트 윈슬렛, 빌리 조, ...\\n        Budget: 약 $200,000,000\\n        Box Office: $2,195,170,000\\n        Genre: 로맨스 / 드라마 / 재난\\n        Plot: 1912년 타이타닉호 침몰 사건을 배경으로 한 두 남녀의 사랑 이야기를 그린 영화이다.')"
      ]
     },
     "execution_count": 27,
     "metadata": {},
     "output_type": "execute_result"
    }
   ],
   "execution_count": 27
  },
  {
   "metadata": {
    "ExecuteTime": {
     "end_time": "2025-10-14T07:34:20.454187Z",
     "start_time": "2025-10-14T07:34:20.452600Z"
    }
   },
   "cell_type": "code",
   "source": "",
   "id": "9cec6729d8a4f240",
   "outputs": [],
   "execution_count": null
  }
 ],
 "metadata": {
  "kernelspec": {
   "display_name": "Python 3",
   "language": "python",
   "name": "python3"
  },
  "language_info": {
   "codemirror_mode": {
    "name": "ipython",
    "version": 2
   },
   "file_extension": ".py",
   "mimetype": "text/x-python",
   "name": "python",
   "nbconvert_exporter": "python",
   "pygments_lexer": "ipython2",
   "version": "2.7.6"
  }
 },
 "nbformat": 4,
 "nbformat_minor": 5
}
