{
 "cells": [
  {
   "metadata": {
    "ExecuteTime": {
     "end_time": "2025-10-31T03:07:13.008118Z",
     "start_time": "2025-10-31T03:07:13.002752Z"
    }
   },
   "cell_type": "code",
   "source": [
    "from datetime import datetime\n",
    "\n",
    "from langchain_community.document_loaders import WebBaseLoader\n",
    "# Wikipedia\n",
    "from langchain_community.tools import WikipediaQueryRun\n",
    "from langchain_community.utilities import DuckDuckGoSearchAPIWrapper\n",
    "from langchain_community.utilities import WikipediaAPIWrapper\n",
    "\n",
    "\n",
    "def search_wikipedia(parameters):\n",
    "    api_wrapper = WikipediaAPIWrapper(top_k_results=2)\n",
    "    tool = WikipediaQueryRun(api_wrapper=api_wrapper)\n",
    "    return tool._run(parameters[\"query\"])\n",
    "\n",
    "\n",
    "def search_duckduckgo(parameters):\n",
    "    duckduck_api_wrapper = DuckDuckGoSearchAPIWrapper(time=\"m\")\n",
    "    docs = duckduck_api_wrapper.results(parameters[\"query\"], max_results=1)\n",
    "    links = []\n",
    "\n",
    "    for doc in docs:\n",
    "        links.append(doc[\"link\"])\n",
    "\n",
    "    loader = WebBaseLoader(\n",
    "        web_path=links,\n",
    "        bs_get_text_kwargs={\n",
    "            \"strip\": True,\n",
    "        }\n",
    "    )\n",
    "\n",
    "    load = loader.load()\n",
    "    return \"\\n\".join([content.page_content for content in load])\n",
    "\n",
    "\n",
    "def save_file(parameters):\n",
    "    now = datetime.now().strftime(\"%Y-%m-%dT%H:%M:%S\")\n",
    "    filename = f\"research_result_{now}.txt\"\n",
    "    with open(filename, 'w', encoding=\"utf-8\") as f:\n",
    "        f.write(parameters[\"content\"] + \"\\n\")\n",
    "    return parameters[\"content\"]"
   ],
   "id": "689d0e9530f92e8d",
   "outputs": [],
   "execution_count": 15
  },
  {
   "metadata": {
    "ExecuteTime": {
     "end_time": "2025-10-31T03:07:13.060345Z",
     "start_time": "2025-10-31T03:07:13.056701Z"
    }
   },
   "cell_type": "code",
   "source": [
    "functions = [\n",
    "    {\n",
    "        \"type\": \"function\",\n",
    "        \"function\": {\n",
    "            \"name\": \"search_wikipedia\",\n",
    "            \"description\": \"query에 대한 답을 Wikipedia를 활용해 검색합니다.\",\n",
    "            \"parameters\": {\n",
    "                \"type\": \"object\",\n",
    "                \"properties\": {\n",
    "                    \"query\": {\n",
    "                        \"type\": \"string\",\n",
    "                        \"description\": \"The query you will search\",\n",
    "                    },\n",
    "                },\n",
    "                \"required\": [\"query\"],\n",
    "            },\n",
    "\n",
    "        }\n",
    "    },\n",
    "    {\n",
    "        \"type\": \"function\",\n",
    "        \"function\": {\n",
    "            \"name\": \"search_duckduckgo\",\n",
    "            \"description\": \"query에 대한 답을 DuckDuckGo를 활용해 검색합니다.\",\n",
    "            \"parameters\": {\n",
    "                \"type\": \"object\",\n",
    "                \"properties\": {\n",
    "                    \"query\": {\n",
    "                        \"type\": \"string\",\n",
    "                        \"description\": \"The query you will search\",\n",
    "                    },\n",
    "                },\n",
    "                \"required\": [\"query\"]\n",
    "            },\n",
    "\n",
    "        }\n",
    "    },\n",
    "    {\n",
    "        \"type\": \"function\",\n",
    "        \"function\": {\n",
    "            \"name\": \"save_file\",\n",
    "            \"description\": \"\"\" 리서치 작업이 완료되면 반드시 사용해야 하는 도구입니다.\n",
    "                            Wikipedia와 DuckDuckGo에서 수집한 모든 정보를 정리하여 content 파라미터에 전달하면 자동으로 파일로 저장됩니다.\n",
    "                            주의: content에는 파일명이 아닌, 실제로 조사한 내용 요약/정리해서 넣어야 합니다.\n",
    "                            \"\"\",\n",
    "            \"parameters\": {\n",
    "                \"type\": \"object\",\n",
    "                \"properties\": {\n",
    "                    \"content\": {\n",
    "                        \"type\": \"string\",\n",
    "                        \"description\": \"검색 도구들로부터 수집한 전체 리서치 내용과 결과를 여기에 전달하세요. 파일명이 아닌 실제 조사한 내용 전체를 포함해야 합니다.\",\n",
    "                    },\n",
    "                },\n",
    "                \"required\": [\"content\"]\n",
    "            },\n",
    "\n",
    "        }\n",
    "    },\n",
    "]\n",
    "\n",
    "functions_map = {\n",
    "    \"search_wikipedia\": search_wikipedia,\n",
    "    \"search_duckduckgo\": search_duckduckgo,\n",
    "    \"save_file\": save_file,\n",
    "}"
   ],
   "id": "c8320a6ac09a9ae9",
   "outputs": [],
   "execution_count": 16
  },
  {
   "metadata": {
    "ExecuteTime": {
     "end_time": "2025-10-31T03:07:13.082830Z",
     "start_time": "2025-10-31T03:07:13.078516Z"
    }
   },
   "cell_type": "code",
   "source": [
    "import json\n",
    "import time\n",
    "\n",
    "\n",
    "def get_run(run_id: str, thread_id: str):\n",
    "    \"\"\"실행 상태 조회\"\"\"\n",
    "    return client.beta.threads.runs.retrieve(\n",
    "        run_id=run_id,\n",
    "        thread_id=thread_id,\n",
    "    )\n",
    "\n",
    "\n",
    "def get_messages(thread_id: str):\n",
    "    \"\"\"스레드의 모든 메시지 조회\"\"\"\n",
    "    messages = client.beta.threads.messages.list(thread_id=thread_id)\n",
    "    messages = list(messages)\n",
    "    messages.reverse()\n",
    "    for message in messages:\n",
    "        print(f\"{message.role}: {message.content[0].text.value}\")\n",
    "\n",
    "\n",
    "def send_message(thread_id: str, content: str):\n",
    "    \"\"\"메시지 전송\"\"\"\n",
    "    return client.beta.threads.messages.create(\n",
    "        thread_id=thread_id, role=\"user\", content=content\n",
    "    )\n",
    "\n",
    "\n",
    "def get_tool_outputs(run_id: str, thread_id: str):\n",
    "    \"\"\"Tool 호출 결과 수집\"\"\"\n",
    "    run = get_run(run_id, thread_id)\n",
    "    outputs = []\n",
    "    for action in run.required_action.submit_tool_outputs.tool_calls:\n",
    "        action_id = action.id\n",
    "        function = action.function\n",
    "        print(f\"Calling function: {function.name} with arg {function.arguments}\")\n",
    "        outputs.append(\n",
    "            {\n",
    "                \"output\": functions_map[function.name](json.loads(function.arguments)),\n",
    "                \"tool_call_id\": action_id,\n",
    "            }\n",
    "        )\n",
    "    return outputs\n",
    "\n",
    "\n",
    "def submit_tool_outputs(run_id: str, thread_id: str):\n",
    "    \"\"\"Tool 출력 제출\"\"\"\n",
    "    outputs = get_tool_outputs(run_id, thread_id)\n",
    "    return client.beta.threads.runs.submit_tool_outputs(\n",
    "        run_id=run_id,\n",
    "        thread_id=thread_id,\n",
    "        tool_outputs=outputs,\n",
    "    )\n",
    "\n",
    "\n",
    "def wait_for_run_completion(run_id: str, thread_id: str, max_attempts: int = 100, check_interval: float = 1.0):\n",
    "    \"\"\"Run 완료 대기 (폴링 방식)\"\"\"\n",
    "    for attempt in range(max_attempts):\n",
    "        run = get_run(run_id, thread_id)\n",
    "        print(f\"[Attempt {attempt + 1}] Run status: {run.status}\")\n",
    "\n",
    "        if run.status == \"completed\":\n",
    "            print(\"✓ Run completed successfully\")\n",
    "            return run\n",
    "        elif run.status == \"requires_action\":\n",
    "            print(\"⚙️ Run requires action - submitting tool outputs\")\n",
    "            submit_tool_outputs(run_id, thread_id)\n",
    "        elif run.status in [\"failed\", \"expired\", \"cancelled\"]:\n",
    "            print(f\"✗ Run failed with status: {run.status}\")\n",
    "            return run\n",
    "\n",
    "        time.sleep(check_interval)\n",
    "\n",
    "    raise TimeoutError(f\"Run did not complete within {max_attempts * check_interval} seconds\")"
   ],
   "id": "4a9497fd0e7cd05a",
   "outputs": [],
   "execution_count": null
  },
  {
   "cell_type": "code",
   "id": "10vlf3pdzd7e",
   "source": [
    "# ===== STREAMING 기능 =====\n",
    "\n",
    "def process_stream(stream):\n",
    "    \"\"\"\n",
    "    Assistant API Streaming 이벤트 처리\n",
    "    \n",
    "    주요 이벤트:\n",
    "    - thread.created: 스레드 생성\n",
    "    - thread.run.created: 실행 생성\n",
    "    - thread.run.in_progress: 실행 진행 중\n",
    "    - thread.run.requires_action: Tool 호출 필요\n",
    "    - thread.message.delta: 메시지 스트리밍 중\n",
    "    - thread.run.completed: 실행 완료\n",
    "    - done: 스트림 종료\n",
    "    \"\"\"\n",
    "    print(\"🔄 Starting stream processing...\")\n",
    "\n",
    "    current_message = \"\"\n",
    "    tool_calls = {}\n",
    "\n",
    "    for event in stream:\n",
    "        event_type = event.event\n",
    "\n",
    "        if event_type == \"thread.created\":\n",
    "            print(f\"✓ Thread created: {event.data.id}\")\n",
    "\n",
    "        elif event_type == \"thread.run.created\":\n",
    "            print(f\"✓ Run created: {event.data.id}\")\n",
    "\n",
    "        elif event_type == \"thread.run.in_progress\":\n",
    "            print(\"⏳ Run in progress...\")\n",
    "\n",
    "        elif event_type == \"thread.message.created\":\n",
    "            print(f\"📝 Message created (role: {event.data.role})\")\n",
    "\n",
    "        elif event_type == \"thread.message.delta\":\n",
    "            # 메시지 스트리밍 - 실시간 텍스트 수신\n",
    "            if hasattr(event.data.delta, 'content') and event.data.delta.content:\n",
    "                for content in event.data.delta.content:\n",
    "                    if hasattr(content, 'text') and hasattr(content.text, 'value'):\n",
    "                        text = content.text.value\n",
    "                        print(text, end=\"\", flush=True)\n",
    "                        current_message += text\n",
    "\n",
    "        elif event_type == \"thread.message.completed\":\n",
    "            print(f\"\\n✓ Message completed\")\n",
    "\n",
    "        elif event_type == \"thread.run.requires_action\":\n",
    "            print(\"\\n⚙️ Run requires action - tool calls needed\")\n",
    "            if hasattr(event.data.required_action, 'submit_tool_outputs'):\n",
    "                for tool_call in event.data.required_action.submit_tool_outputs.tool_calls:\n",
    "                    print(f\"  🔧 Tool call: {tool_call.function.name}\")\n",
    "                    tool_calls[tool_call.id] = tool_call\n",
    "\n",
    "        elif event_type == \"thread.run.completed\":\n",
    "            print(\"\\n✓ Run completed successfully!\")\n",
    "\n",
    "        elif event_type == \"thread.run.failed\":\n",
    "            print(f\"\\n✗ Run failed: {event.data.last_error}\")\n",
    "\n",
    "        elif event_type == \"error\":\n",
    "            print(f\"\\n✗ Stream error: {event.data}\")\n",
    "\n",
    "        elif event_type == \"done\":\n",
    "            print(\"\\n✓ Stream ended\")\n",
    "\n",
    "    return current_message\n",
    "\n",
    "\n",
    "def create_run_with_stream(thread_id: str, assistant_id: str):\n",
    "    \"\"\"\n",
    "    Streaming을 활성화한 Run 생성\n",
    "    \n",
    "    stream=True를 설정하면 Server-Sent Events (SSE)로 실시간 업데이트를 받을 수 있습니다.\n",
    "    \"\"\"\n",
    "    print(f\"🚀 Creating run with streaming (thread: {thread_id}, assistant: {assistant_id})\")\n",
    "\n",
    "    with client.beta.threads.runs.stream(\n",
    "            thread_id=thread_id,\n",
    "            assistant_id=assistant_id,\n",
    "    ) as stream:\n",
    "        return process_stream(stream)\n",
    "\n",
    "\n",
    "def submit_tool_outputs_with_stream(run_id: str, thread_id: str):\n",
    "    \"\"\"\n",
    "    Tool 출력을 제출하고 Streaming으로 응답 받기\n",
    "    \"\"\"\n",
    "    print(f\"📤 Submitting tool outputs with streaming...\")\n",
    "\n",
    "    # 먼저 tool outputs 수집\n",
    "    run = get_run(run_id, thread_id)\n",
    "    outputs = []\n",
    "\n",
    "    for action in run.required_action.submit_tool_outputs.tool_calls:\n",
    "        action_id = action.id\n",
    "        function = action.function\n",
    "        print(f\"  → Executing: {function.name}\")\n",
    "\n",
    "        output = functions_map[function.name](json.loads(function.arguments))\n",
    "        outputs.append({\n",
    "            \"output\": output,\n",
    "            \"tool_call_id\": action_id,\n",
    "        })\n",
    "\n",
    "    # Tool 결과를 제출하면서 스트리밍 수신\n",
    "    with client.beta.threads.runs.submit_tool_outputs_stream(\n",
    "            thread_id=thread_id,\n",
    "            run_id=run_id,\n",
    "            tool_outputs=outputs,\n",
    "    ) as stream:\n",
    "        return process_stream(stream)"
   ],
   "metadata": {},
   "execution_count": null,
   "outputs": []
  },
  {
   "metadata": {
    "ExecuteTime": {
     "end_time": "2025-10-31T03:07:13.090742Z",
     "start_time": "2025-10-31T03:07:13.087757Z"
    }
   },
   "cell_type": "code",
   "source": [
    "from openai import OpenAI\n",
    "from dotenv import load_dotenv\n",
    "\n",
    "load_dotenv()\n",
    "\n",
    "# OpenAI 클라이언트 초기화 (v1.0+ 최신 방식)\n",
    "client = OpenAI()\n",
    "\n",
    "assistant = client.beta.assistants.create(\n",
    "    name=\"search assistant\",\n",
    "    instructions=\"\"\"\n",
    "      당신은 주제에 대한 광범위한 조사를 수행하는 AI 어시스턴트입니다.\n",
    "\n",
    "      **필수 워크플로우:**\n",
    "      1. 사용자 질문을 받으면 Wikipedia와 DuckDuckGo로 조사\n",
    "      2. 조사 결과를 종합하고 정리\n",
    "      3. save_file 도구를 사용하여 결과를 반드시 파일에 저장\n",
    "      4. \"✓ 파일에 저장되었습니다:\n",
    "      research_result_YYYY-MM-DDTHH:MM:SS.txt\" 형식으로 알림\n",
    "      5. 저장된 내용의 요약을 사용자에게 제공\n",
    "\n",
    "      **주의:**\n",
    "      - 모든 조사 결과는 반드시 파일로 저장되어야 함\n",
    "      - 파일 저장 없이 조사만 하면 안 됨\n",
    "      \"\"\",\n",
    "    model=\"gpt-4-turbo\",\n",
    "    tools=functions,\n",
    ")"
   ],
   "id": "67545cf708529ed",
   "outputs": [],
   "execution_count": null
  },
  {
   "metadata": {
    "ExecuteTime": {
     "end_time": "2025-10-31T03:07:13.104023Z",
     "start_time": "2025-10-31T03:07:13.102438Z"
    }
   },
   "cell_type": "code",
   "source": "assistant_id = \"asst_jK97S5ZWiAvVoafRKkz2rPk4\"",
   "id": "fbe88a4d67482788",
   "outputs": [],
   "execution_count": 19
  },
  {
   "cell_type": "code",
   "id": "0n4m3nbnsjlm",
   "source": [
    "# ===== 예제 1: 폴링 방식 (기존 방식) =====\n",
    "# 이 방식은 run 상태를 주기적으로 확인합니다.\n",
    "\n",
    "def example_polling():\n",
    "    \"\"\"폴링 방식 예제\"\"\"\n",
    "    # Step 1: 스레드 생성\n",
    "    thread = client.beta.threads.create(\n",
    "        messages=[\n",
    "            {\n",
    "                \"role\": \"user\",\n",
    "                \"content\": \"Research about the XZ backdoor\",\n",
    "            }\n",
    "        ]\n",
    "    )\n",
    "    print(f\"Thread created: {thread.id}\")\n",
    "\n",
    "    # Step 2: Run 생성\n",
    "    run = client.beta.threads.runs.create(\n",
    "        thread_id=thread.id,\n",
    "        assistant_id=assistant_id,\n",
    "    )\n",
    "    print(f\"Run created: {run.id}\")\n",
    "\n",
    "    # Step 3: Run 완료 대기 (폴링)\n",
    "    wait_for_run_completion(run.id, thread.id)\n",
    "\n",
    "    # Step 4: 최종 메시지 조회\n",
    "    print(\"\\n=== Final Response ===\")\n",
    "    get_messages(thread.id)\n",
    "\n",
    "    return thread.id"
   ],
   "metadata": {},
   "execution_count": null,
   "outputs": []
  },
  {
   "cell_type": "code",
   "id": "6dnxwz3ffvl",
   "source": [
    "# ===== 예제 2: Streaming 방식 (권장) =====\n",
    "# 이 방식은 Server-Sent Events (SSE)를 통해 실시간 업데이트를 받습니다.\n",
    "# 응답이 더 빠르고 실시간으로 메시지를 볼 수 있습니다.\n",
    "\n",
    "def example_streaming():\n",
    "    \"\"\"Streaming 방식 예제\"\"\"\n",
    "    # Step 1: 스레드와 함께 메시지 생성하고 Run 실행\n",
    "    print(\"=== Using Streaming Mode ===\\n\")\n",
    "\n",
    "    response = client.beta.threads.create_and_run(\n",
    "        assistant_id=assistant_id,\n",
    "        thread={\"messages\": [{\"role\": \"user\", \"content\": \"Research about the XZ backdoor\"}]},\n",
    "    )\n",
    "\n",
    "    # Step 2: Run이 완료될 때까지 스트리밍으로 이벤트 수신\n",
    "    # (Tool call이 필요한 경우 자동으로 처리)\n",
    "    with client.beta.threads.runs.stream(\n",
    "            thread_id=response.thread_id,\n",
    "            assistant_id=assistant_id,\n",
    "    ) as stream:\n",
    "        for event in stream:\n",
    "            # 스트림 이벤트 처리\n",
    "            if event.event == \"thread.message.delta\":\n",
    "                if hasattr(event.data.delta, 'content'):\n",
    "                    for content in event.data.delta.content:\n",
    "                        if hasattr(content, 'text'):\n",
    "                            print(content.text.value, end=\"\", flush=True)\n",
    "            elif event.event == \"thread.run.requires_action\":\n",
    "                print(\"\\n⚙️ Handling tool calls...\")\n",
    "\n",
    "    print(\"\\n✓ Streaming completed!\")\n",
    "    return response.thread_id"
   ],
   "metadata": {},
   "execution_count": null,
   "outputs": []
  },
  {
   "metadata": {
    "ExecuteTime": {
     "end_time": "2025-10-31T03:07:17.066737Z",
     "start_time": "2025-10-31T03:07:13.150248Z"
    }
   },
   "cell_type": "code",
   "source": [
    "thread = client.beta.threads.create(\n",
    "    messages=[\n",
    "        {\n",
    "            \"role\": \"user\",\n",
    "            \"content\": \"Research about the XZ backdoor\",\n",
    "        }\n",
    "    ]\n",
    ")"
   ],
   "id": "ebbaeef10af9de05",
   "outputs": [
    {
     "name": "stderr",
     "output_type": "stream",
     "text": [
      "/var/folders/sk/pkk133sn4ln_tcqhmklnwlx00000gn/T/ipykernel_13596/2323369808.py:1: DeprecationWarning: The Assistants API is deprecated in favor of the Responses API\n",
      "  thread = client.beta.threads.create(\n"
     ]
    }
   ],
   "execution_count": 20
  },
  {
   "metadata": {
    "ExecuteTime": {
     "end_time": "2025-10-31T03:07:18.643869Z",
     "start_time": "2025-10-31T03:07:17.088821Z"
    }
   },
   "cell_type": "code",
   "source": [
    "run = client.beta.threads.runs.create(\n",
    "    thread_id=thread.id,\n",
    "    assistant_id=assistant_id,\n",
    ")"
   ],
   "id": "c347deca7e366081",
   "outputs": [
    {
     "name": "stderr",
     "output_type": "stream",
     "text": [
      "/var/folders/sk/pkk133sn4ln_tcqhmklnwlx00000gn/T/ipykernel_13596/519887857.py:1: DeprecationWarning: The Assistants API is deprecated in favor of the Responses API\n",
      "  run = client.beta.threads.runs.create(\n"
     ]
    }
   ],
   "execution_count": 21
  },
  {
   "metadata": {
    "ExecuteTime": {
     "end_time": "2025-10-31T03:07:19.347083Z",
     "start_time": "2025-10-31T03:07:18.662840Z"
    }
   },
   "cell_type": "code",
   "source": "get_run(run.id, thread.id).status",
   "id": "4ea8a67abe95fa47",
   "outputs": [
    {
     "name": "stderr",
     "output_type": "stream",
     "text": [
      "/var/folders/sk/pkk133sn4ln_tcqhmklnwlx00000gn/T/ipykernel_13596/1600149864.py:5: DeprecationWarning: The Assistants API is deprecated in favor of the Responses API\n",
      "  return client.beta.threads.runs.retrieve(\n"
     ]
    },
    {
     "data": {
      "text/plain": [
       "'queued'"
      ]
     },
     "execution_count": 22,
     "metadata": {},
     "output_type": "execute_result"
    }
   ],
   "execution_count": 22
  },
  {
   "metadata": {
    "ExecuteTime": {
     "end_time": "2025-10-31T03:07:35.267194Z",
     "start_time": "2025-10-31T03:07:26.255267Z"
    }
   },
   "cell_type": "code",
   "source": "submit_tool_outputs(run.id, thread.id)",
   "id": "df8f901309f3dcd9",
   "outputs": [
    {
     "name": "stderr",
     "output_type": "stream",
     "text": [
      "/var/folders/sk/pkk133sn4ln_tcqhmklnwlx00000gn/T/ipykernel_13596/1600149864.py:5: DeprecationWarning: The Assistants API is deprecated in favor of the Responses API\n",
      "  return client.beta.threads.runs.retrieve(\n"
     ]
    },
    {
     "name": "stdout",
     "output_type": "stream",
     "text": [
      "Calling function: search_wikipedia with arg {\"query\": \"XZ backdoor\"}\n",
      "Calling function: search_duckduckgo with arg {\"query\": \"XZ backdoor\"}\n"
     ]
    },
    {
     "name": "stderr",
     "output_type": "stream",
     "text": [
      "/var/folders/sk/pkk133sn4ln_tcqhmklnwlx00000gn/T/ipykernel_13596/1600149864.py:43: DeprecationWarning: The Assistants API is deprecated in favor of the Responses API\n",
      "  return client.beta.threads.runs.submit_tool_outputs(\n"
     ]
    },
    {
     "data": {
      "text/plain": [
       "Run(id='run_ckWHHydnNV5USDDY0u2EMBUa', assistant_id='asst_jK97S5ZWiAvVoafRKkz2rPk4', cancelled_at=None, completed_at=None, created_at=1761880037, expires_at=1761880637, failed_at=None, incomplete_details=None, instructions='검색한 결과를 파일로 저장하는 것을 도와줍니다.', last_error=None, max_completion_tokens=None, max_prompt_tokens=None, metadata={}, model='gpt-4.1-mini', object='thread.run', parallel_tool_calls=True, required_action=None, response_format='auto', started_at=1761880038, status='queued', thread_id='thread_IJYn9z261gUBNZ9Xa63Af7mm', tool_choice='auto', tools=[FunctionTool(function=FunctionDefinition(name='search_wikipedia', description='query에 대한 답을 Wikipedia를 활용해 검색합니다.', parameters={'type': 'object', 'properties': {'query': {'type': 'string', 'description': 'The query you will search'}}, 'required': ['query']}, strict=False), type='function'), FunctionTool(function=FunctionDefinition(name='search_duckduckgo', description='query에 대한 답을 DuckDuckGo를 활용해 검색합니다.', parameters={'type': 'object', 'properties': {'query': {'type': 'string', 'description': 'The query you will search'}}, 'required': ['query']}, strict=False), type='function'), FunctionTool(function=FunctionDefinition(name='save_file', description=' 리서치 작업이 완료되면 반드시 사용해야 하는 도구입니다.\\n                            Wikipedia와 DuckDuckGo에서 수집한 모든 정보를 정리하여 content 파라미터에 전달하면 자동으로 파일로 저장됩니다.\\n                            주의: content에는 파일명이 아닌, 실제로 조사한 내용 요약/정리해서 넣어야 합니다.\\n                            ', parameters={'type': 'object', 'properties': {'content': {'type': 'string', 'description': '검색 도구들로부터 수집한 전체 리서치 내용과 결과를 여기에 전달하세요. 파일명이 아닌 실제 조사한 내용 전체를 포함해야 합니다.'}}, 'required': ['content']}, strict=False), type='function')], truncation_strategy=TruncationStrategy(type='auto', last_messages=None), usage=None, temperature=1.0, top_p=1.0, tool_resources={}, reasoning_effort=None)"
      ]
     },
     "execution_count": 24,
     "metadata": {},
     "output_type": "execute_result"
    }
   ],
   "execution_count": 24
  },
  {
   "metadata": {
    "ExecuteTime": {
     "end_time": "2025-10-31T03:07:46.521071Z",
     "start_time": "2025-10-31T03:07:46.003576Z"
    }
   },
   "cell_type": "code",
   "source": "get_run(run.id, thread.id).status",
   "id": "a95de1ec90f83cb9",
   "outputs": [
    {
     "name": "stderr",
     "output_type": "stream",
     "text": [
      "/var/folders/sk/pkk133sn4ln_tcqhmklnwlx00000gn/T/ipykernel_13596/1600149864.py:5: DeprecationWarning: The Assistants API is deprecated in favor of the Responses API\n",
      "  return client.beta.threads.runs.retrieve(\n"
     ]
    },
    {
     "data": {
      "text/plain": [
       "'completed'"
      ]
     },
     "execution_count": 25,
     "metadata": {},
     "output_type": "execute_result"
    }
   ],
   "execution_count": 25
  },
  {
   "metadata": {
    "ExecuteTime": {
     "end_time": "2025-10-31T03:07:56.506167Z",
     "start_time": "2025-10-31T03:07:55.873318Z"
    }
   },
   "cell_type": "code",
   "source": "get_messages(thread.id)",
   "id": "65ad77c55e6d5db",
   "outputs": [
    {
     "name": "stderr",
     "output_type": "stream",
     "text": [
      "/var/folders/sk/pkk133sn4ln_tcqhmklnwlx00000gn/T/ipykernel_13596/1600149864.py:12: DeprecationWarning: The Assistants API is deprecated in favor of the Responses API\n",
      "  messages = client.beta.threads.messages.list(thread_id=thread_id)\n"
     ]
    },
    {
     "name": "stdout",
     "output_type": "stream",
     "text": [
      "user: Research about the XZ backdoor\n",
      "assistant: The \"XZ backdoor\" refers to a malicious backdoor discovered in the Linux build of the xz utility within the liblzma library in versions 5.6.0 and 5.6.1. It was introduced in February 2024 by an account named \"Jia Tan.\" This backdoor allowed an attacker with a specific Ed448 private key to execute remote code via OpenSSH on affected Linux systems. The vulnerability is identified as CVE-2024-3094 and has the highest possible severity score of 10.0 (CVSS).\n",
      "\n",
      "XZ Utils is a set of free software command-line lossless data compressors widely used in Unix-like systems and Windows. The backdoor resided in specially crafted .xz test files and a modification in the build scripts, which injected the backdoor into the built binaries. It was carefully disguised as legitimate test files and build scripts, making it extremely difficult to detect through standard code reviews or automated tools.\n",
      "\n",
      "The backdoor was discovered by developer Andres Freund in March 2024 after noticing a half-second performance regression in SSH. At the time of discovery, the backdoored version had limited deployment, mostly in development versions of major Linux distributions like Debian and Fedora.\n",
      "\n",
      "Efforts to detect the backdoor through improved Git and Debian packaging practices concluded that it would have been very challenging to identify it with reasonable effort. The backdoor's implementation showed a high level of sophistication — the malicious test files resembled normal test data, and the build script modifications were embedded in complex Autotools code, which is inherently complex and full of shell scripting and m4 macros.\n",
      "\n",
      "The incident has raised concerns about software supply-chain security, especially the auditing and verification processes in open source software development and distribution. Debian's packaging and QA processes do include various signature verifications, package comparisons, and Git repository audits, but the backdoor evaded these due to its clever embedding and lack of suspicious commit signatures.\n",
      "\n",
      "Key takeaways:\n",
      "- The backdoor used crafted test files and Autotools build script modifications to implant itself.\n",
      "- It was not easily detectable via standard signature checks, Git auditing, or source package verification.\n",
      "- The highly skilled attackers anticipated common inspection methods and concealed their changes brilliantly.\n",
      "- The Debian community recognizes these tools help but are not foolproof; more auditing, improved policies, and shared workflows are needed.\n",
      "- Open source software, despite risks, remains more transparent and auditable than closed source alternatives.\n",
      "- This incident underscores the necessity for continued vigilance and enhancement of software supply-chain security measures.\n",
      "\n",
      "Please let me know if you would like detailed technical analysis, mitigation advice, or more info on the response from Linux distributions.\n"
     ]
    }
   ],
   "execution_count": 26
  }
 ],
 "metadata": {
  "kernelspec": {
   "display_name": "Python 3",
   "language": "python",
   "name": "python3"
  },
  "language_info": {
   "codemirror_mode": {
    "name": "ipython",
    "version": 2
   },
   "file_extension": ".py",
   "mimetype": "text/x-python",
   "name": "python",
   "nbconvert_exporter": "python",
   "pygments_lexer": "ipython2",
   "version": "2.7.6"
  }
 },
 "nbformat": 4,
 "nbformat_minor": 5
}
